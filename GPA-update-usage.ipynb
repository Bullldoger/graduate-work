{
 "cells": [
  {
   "cell_type": "code",
   "execution_count": 1,
   "metadata": {},
   "outputs": [],
   "source": [
    "from copy import deepcopy\n",
    "\n",
    "from gpa.GPA_update import GPA\n",
    "import json"
   ]
  },
  {
   "cell_type": "code",
   "execution_count": 2,
   "metadata": {},
   "outputs": [],
   "source": [
    "path = 'models/gpa-2.json'\n",
    "\n",
    "with open(path, 'r') as fp:\n",
    "    gpa1 = json.load(fp)"
   ]
  },
  {
   "cell_type": "code",
   "execution_count": 3,
   "metadata": {},
   "outputs": [],
   "source": [
    "g = GPA(params=gpa1)\n",
    "# g.solve_equations()"
   ]
  },
  {
   "cell_type": "code",
   "execution_count": 4,
   "metadata": {},
   "outputs": [],
   "source": [
    "d_a = {\n",
    "    'dp1': 0.01,\n",
    "    'dp3': 0,\n",
    "    'dp4': 0,\n",
    "    'dp5': 0,\n",
    "    'dp6': 0,\n",
    "    'dq2': 0,\n",
    "    'dq3': 0, \n",
    "    'dq4': 0\n",
    "}"
   ]
  },
  {
   "cell_type": "code",
   "execution_count": 5,
   "metadata": {},
   "outputs": [],
   "source": [
    "appr = deepcopy(gpa1['approximation'])"
   ]
  },
  {
   "cell_type": "code",
   "execution_count": 6,
   "metadata": {},
   "outputs": [
    {
     "data": {
      "text/plain": [
       "<gpa.GPA_update.GPA at 0x7ff65ab46128>"
      ]
     },
     "execution_count": 6,
     "metadata": {},
     "output_type": "execute_result"
    }
   ],
   "source": [
    "g.solve_equations(start_approximation=appr, iterations=100, eps=0.00001)"
   ]
  },
  {
   "cell_type": "code",
   "execution_count": 7,
   "metadata": {},
   "outputs": [
    {
     "data": {
      "text/plain": [
       "<gpa.GPA_update.GPA at 0x7ff65ab46128>"
      ]
     },
     "execution_count": 7,
     "metadata": {},
     "output_type": "execute_result"
    }
   ],
   "source": [
    "g.construct_sense_matrix(d_approximation=d_a)"
   ]
  },
  {
   "cell_type": "code",
   "execution_count": 8,
   "metadata": {},
   "outputs": [
    {
     "data": {
      "text/plain": [
       "<gpa.GPA_update.GPA at 0x7ff65ab46128>"
      ]
     },
     "execution_count": 8,
     "metadata": {},
     "output_type": "execute_result"
    }
   ],
   "source": [
    "apprb = deepcopy(g.base_approximation)\n",
    "\n",
    "apprb['p1'] = 17.01\n",
    "\n",
    "g.solve_equations(base_approximation=apprb, start_approximation=appr, eps=0.00001)"
   ]
  },
  {
   "cell_type": "code",
   "execution_count": 9,
   "metadata": {},
   "outputs": [
    {
     "data": {
      "text/plain": [
       "{'p1': 17.0100000000000,\n",
       " 'p2': 8.82043000000000,\n",
       " 'p3': 5,\n",
       " 'p4': 5,\n",
       " 'x1': 14.5205812810415,\n",
       " 'x2': 7.26636000000000,\n",
       " 'x3': 7.26636000000000}"
      ]
     },
     "execution_count": 9,
     "metadata": {},
     "output_type": "execute_result"
    }
   ],
   "source": [
    "g.d_approximation"
   ]
  },
  {
   "cell_type": "code",
   "execution_count": 10,
   "metadata": {},
   "outputs": [
    {
     "data": {
      "text/plain": [
       "{'p1': 17.01,\n",
       " 'p2': 8.82429,\n",
       " 'p3': 5,\n",
       " 'p4': 5,\n",
       " 'q2': 0,\n",
       " 'x1': 14.54208,\n",
       " 'x2': 7.27104,\n",
       " 'x3': 7.27104}"
      ]
     },
     "execution_count": 10,
     "metadata": {},
     "output_type": "execute_result"
    }
   ],
   "source": [
    "g.last_approximation"
   ]
  },
  {
   "cell_type": "code",
   "execution_count": null,
   "metadata": {},
   "outputs": [],
   "source": []
  }
 ],
 "metadata": {
  "kernelspec": {
   "display_name": "Python 3",
   "language": "python",
   "name": "python3"
  },
  "language_info": {
   "codemirror_mode": {
    "name": "ipython",
    "version": 3
   },
   "file_extension": ".py",
   "mimetype": "text/x-python",
   "name": "python",
   "nbconvert_exporter": "python",
   "pygments_lexer": "ipython3",
   "version": "3.5.2"
  }
 },
 "nbformat": 4,
 "nbformat_minor": 2
}
