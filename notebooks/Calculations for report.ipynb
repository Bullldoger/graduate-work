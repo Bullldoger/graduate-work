{
 "cells": [
  {
   "cell_type": "code",
   "execution_count": 349,
   "metadata": {},
   "outputs": [],
   "source": [
    "import matplotlib.pyplot as plt\n",
    "import numpy\n",
    "import math"
   ]
  },
  {
   "cell_type": "code",
   "execution_count": 632,
   "metadata": {},
   "outputs": [],
   "source": [
    "L = 5\n",
    "sigma_f_external = 0.1\n",
    "sigma_s_external = 0.05\n",
    "\n",
    "N = 100"
   ]
  },
  {
   "cell_type": "code",
   "execution_count": 633,
   "metadata": {},
   "outputs": [],
   "source": [
    "# def plot_total_simgas(L=1, sigma_s=0.1, sigma_f=0.05, display_only_diff=False):\n",
    "#     def k(l):\n",
    "#         return l\n",
    "    \n",
    "#     def v1(xi):\n",
    "#         return (sigma_f ** 2 + sigma_s ** 2) / ((k(L)) ** 2)\n",
    "    \n",
    "#     def v2(xi):\n",
    "#         return (sigma_f ** 2 * (k(xi) ** 2) +\n",
    "#                 sigma_s ** 2 * (k(L - xi) ** 2)) / ((k(L - xi) + k(xi)) ** 2) * (1 / k(L - xi) - 1 / k(xi)) ** 2 + sigma_s ** 2 / (4 * k(xi) ** 2) + sigma_f ** 2 / (4 * k(L - xi) ** 2)\n",
    "    \n",
    "#     xi = numpy.linspace(0, L, num=1000)\n",
    "\n",
    "#     total_v1 = [ v1(x) for x in xi]\n",
    "#     total_v2 = [ v2(x) for x in xi]\n",
    "\n",
    "#     total_v1 = numpy.array(total_v1)\n",
    "#     total_v2 = numpy.array(total_v2)\n",
    "#     total = total_v1 - total_v2\n",
    "    \n",
    "#     xi_max = xi[numpy.argmax(total)]\n",
    "#     total_max = numpy.max(total)\n",
    "#     total_v1_max = total_v1[numpy.argmax(total)]\n",
    "#     total_v2_max = total_v2[numpy.argmax(total)]\n",
    "    \n",
    "#     print(L, xi_max, total_max)\n",
    "    \n",
    "#     plt.figure(figsize=(10, 10))\n",
    "#     plt.plot(xi, total)\n",
    "#     plt.plot([xi_max], [total_max], 'or')\n",
    "#     plt.plot([0, L], [0, 0], '--', color='red')\n",
    "#     plt.xlabel('Координата манометра при L = ' + str(round(L, 3)))\n",
    "#     plt.ylabel('Разность дисперсии без и с дополнительным манометром')\n",
    "#     plt.text(x=xi_max * 1.1, y=total_max * 0.9, s=str(round(total_max, 5)))\n",
    "#     plt.grid()\n",
    "#     plt.show()\n",
    "\n",
    "#     if not display_only_diff:\n",
    "#         plt.figure(figsize=(10, 10))\n",
    "#         plt.plot(xi, total_v1, 'r')\n",
    "#         plt.plot([xi_max], [total_v1_max], 'or')\n",
    "#         plt.plot(xi, total_v2, 'b')\n",
    "#         plt.plot([xi_max], [total_v2_max], 'ob')\n",
    "#         plt.xlabel('Координата манометра при L = ' + str(round(L, 3)))\n",
    "#         plt.ylabel('Значения дисперсии')\n",
    "#         plt.grid()\n",
    "#         plt.show()"
   ]
  },
  {
   "cell_type": "code",
   "execution_count": 634,
   "metadata": {},
   "outputs": [],
   "source": [
    "# def l_dependence(l_start=0, l_stop=2, steps=5, sigma_s=0.1, sigma_f=0.05):\n",
    "#     def k(l):\n",
    "#         return l\n",
    "    \n",
    "#     def v1(xi):\n",
    "#         return (sigma_f ** 2 + sigma_s ** 2) / ((k(L)) ** 2)\n",
    "    \n",
    "#     def v2(xi):\n",
    "#         return (sigma_f ** 2 * (k(xi) ** 2) + sigma_s ** 2 * (k(L - xi) ** 2)) / ((k(L - xi) + k(xi)) ** 2)\n",
    "    \n",
    "#     xi_dep = list()\n",
    "#     l_dep = list()\n",
    "#     total_dep = list()z\n",
    "    \n",
    "#     for i in range(steps):\n",
    "#         current_l = math.fabs(l_start - l_stop) / steps * (i + 1) + l_start\n",
    "        \n",
    "#         xi = numpy.linspace(l_start, current_l, num=10000)\n",
    "        \n",
    "#         total_v1 = [ v1(x) for x in xi]\n",
    "#         total_v2 = [ v2(x) for x in xi]\n",
    "\n",
    "#         total_v1 = numpy.array(total_v1)\n",
    "#         total_v2 = numpy.array(total_v2)\n",
    "#         total = total_v1 - total_v2\n",
    "\n",
    "#         xi_max = xi[numpy.argmax(total)]\n",
    "#         total_max = numpy.max(total)\n",
    "#         total_v1_max = total_v1[numpy.argmax(total)]\n",
    "#         total_v2_max = total_v2[numpy.argmax(total)]\n",
    "        \n",
    "#         xi_dep.append(xi_max)\n",
    "#         l_dep.append(current_l)\n",
    "#         total_dep.append(total_max)\n",
    "        \n",
    "#     xi_dep = numpy.array(xi_dep)\n",
    "#     l_dep = numpy.array(l_dep)\n",
    "#     total_dep = numpy.array(total_dep)\n",
    "    \n",
    "#     return xi_dep, l_dep, total_dep"
   ]
  },
  {
   "cell_type": "code",
   "execution_count": 635,
   "metadata": {},
   "outputs": [],
   "source": [
    "def k(l):\n",
    "    return l\n",
    "\n",
    "def v1(xi):\n",
    "    return (sigma_f ** 2 + sigma_s ** 2) / ((k(L)) ** 2)\n",
    "\n",
    "def v2_all(xi):\n",
    "    return (sigma_f ** 2 * (k(xi) ** 2) +\n",
    "            sigma_s ** 2 * (k(L - xi) ** 2)) / ((k(L - xi) + k(xi)) ** 2) * (1 / k(L - xi) - 1 / k(xi)) ** 2 + sigma_s ** 2 / (4 * k(xi) ** 2) + sigma_f ** 2 / (4 * k(L - xi) ** 2)\n",
    "\n",
    "\n",
    "def v2_s(xi):\n",
    "    return (sigma_f ** 2 * (k(xi) ** 2) +\n",
    "            sigma_s ** 2 * (k(L - xi) ** 2)) / ((k(L - xi) + k(xi)) ** 2) / (k(xi) ** 2) + sigma_s ** 2 / (k(xi) ** 2)\n",
    "    \n",
    "\n",
    "def v2_f(xi):\n",
    "    return (sigma_f ** 2 * (k(xi) ** 2) +\n",
    "            sigma_s ** 2 * (k(L - xi) ** 2)) / ((k(L - xi) + k(xi)) ** 2) / (k(L - xi) ** 2) + sigma_f ** 2 / (k(L - xi) ** 2)\n",
    "    "
   ]
  },
  {
   "cell_type": "code",
   "execution_count": 650,
   "metadata": {},
   "outputs": [],
   "source": [
    "xi = numpy.linspace(0.85, 2.55, num=1000)\n",
    "\n",
    "total_v1 = [ v1(x) for x in xi]\n",
    "total_v2_all = [ v2_all(x) for x in xi]\n",
    "total_v2_f = [ v2_f(x) for x in xi]\n",
    "total_v2_s = [ v2_f(x) for x in xi]\n",
    "\n",
    "total_v1 = numpy.array(total_v1)\n",
    "total_v2_all = numpy.array(total_v2_all)\n",
    "total_v2_s = numpy.array(total_v2_s)\n",
    "total_v2_f = numpy.array(total_v2_f)"
   ]
  },
  {
   "cell_type": "code",
   "execution_count": 673,
   "metadata": {},
   "outputs": [
    {
     "name": "stdout",
     "output_type": "stream",
     "text": [
      "1.8846346346346343 0.002504 0.0020088209186314003\n"
     ]
    },
    {
     "data": {
      "image/png": "[encoded data removed]",
      "text/plain": [
       "<matplotlib.figure.Figure at 0x7f46c51cf0f0>"
      ]
     },
     "metadata": {},
     "output_type": "display_data"
    }
   ],
   "source": [
    "plt.figure(figsize=(9, 4))\n",
    "# plt.plot(xi, total_v1, 'r')\n",
    "# plt.plot(xi, total_v2_all, 'b')\n",
    "\n",
    "\n",
    "xi_max = xi[numpy.argmax(total_v1 - total_v2_all)]\n",
    "total_max = numpy.max(total_v1 - total_v2_all)\n",
    "total_v1_max = total_v1[numpy.argmax( total_v1 - total_v2_all)]\n",
    "total_v2_max = total_v2_all[numpy.argmax( total_v1 - total_v2_all)]\n",
    "\n",
    "\n",
    "plt.plot(xi, total_v1 - total_v2_all, '--b')\n",
    "plt.plot([0.85, 2.55], [0, 0], 'r')\n",
    "plt.xlabel('Положение манометра вдоль линейного участка')\n",
    "plt.ylabel('Значение разности дисперсий')\n",
    "# plt.plot(xi, total_v2_s, '--r')\n",
    "# plt.plot(xi, total_v2_f, '--g')\n",
    "\n",
    "print(xi_max, total_v1_max, total_v2_max)\n",
    "plt.show()"
   ]
  },
  {
   "cell_type": "code",
   "execution_count": 674,
   "metadata": {},
   "outputs": [
    {
     "data": {
      "text/plain": [
       "0.0025000000000000005"
      ]
     },
     "execution_count": 674,
     "metadata": {},
     "output_type": "execute_result"
    }
   ],
   "source": [
    "0.05 * 0.05"
   ]
  },
  {
   "cell_type": "code",
   "execution_count": null,
   "metadata": {},
   "outputs": [],
   "source": []
  }
 ],
 "metadata": {
  "kernelspec": {
   "display_name": "Python 3",
   "language": "python",
   "name": "python3"
  },
  "language_info": {
   "codemirror_mode": {
    "name": "ipython",
    "version": 3
   },
   "file_extension": ".py",
   "mimetype": "text/x-python",
   "name": "python",
   "nbconvert_exporter": "python",
   "pygments_lexer": "ipython3",
   "version": "3.5.2"
  }
 },
 "nbformat": 4,
 "nbformat_minor": 2
}
