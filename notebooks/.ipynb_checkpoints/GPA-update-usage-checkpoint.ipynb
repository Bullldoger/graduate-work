{
 "cells": [
  {
   "cell_type": "code",
   "execution_count": 1,
   "metadata": {},
   "outputs": [],
   "source": [
    "import sys\n",
    "import os\n",
    "sys.path.append(os.path.abspath('../'))"
   ]
  },
  {
   "cell_type": "code",
   "execution_count": 2,
   "metadata": {},
   "outputs": [],
   "source": [
    "from gpa.gpa_update import GPA\n",
    "import json"
   ]
  },
  {
   "cell_type": "code",
   "execution_count": 3,
   "metadata": {},
   "outputs": [],
   "source": [
    "path = '../models/gpa-2.json'\n",
    "\n",
    "with open(path, 'r') as fp:\n",
    "    gpa1 = json.load(fp)"
   ]
  },
  {
   "cell_type": "code",
   "execution_count": 4,
   "metadata": {},
   "outputs": [],
   "source": [
    "g = GPA(params=gpa1)\n",
    "\n",
    "# g.solve_equations()"
   ]
  },
  {
   "cell_type": "code",
   "execution_count": 5,
   "metadata": {},
   "outputs": [
    {
     "data": {
      "text/plain": [
       "[0, 2, 3]"
      ]
     },
     "execution_count": 5,
     "metadata": {},
     "output_type": "execute_result"
    }
   ],
   "source": [
    "g.known_p_nodes_indexes"
   ]
  },
  {
   "cell_type": "code",
   "execution_count": 6,
   "metadata": {},
   "outputs": [
    {
     "data": {
      "text/plain": [
       "{'p1': 17, 'p3': 5, 'p4': 5, 'q2': 0}"
      ]
     },
     "execution_count": 6,
     "metadata": {},
     "output_type": "execute_result"
    }
   ],
   "source": [
    "g.base_approximation"
   ]
  },
  {
   "cell_type": "code",
   "execution_count": 7,
   "metadata": {},
   "outputs": [],
   "source": [
    "d_a = {\n",
    "    'dp1': 0.001,\n",
    "    'dp3': 0,\n",
    "    'dp4': 0,\n",
    "    'dq2': 0\n",
    "}"
   ]
  },
  {
   "cell_type": "code",
   "execution_count": 8,
   "metadata": {},
   "outputs": [
    {
     "data": {
      "text/plain": [
       "Matrix([\n",
       "[   p1**2 - p2**2 - x1**2],\n",
       "[   p2**2 - p3**2 - x3**2],\n",
       "[   p2**2 - p4**2 - x2**2],\n",
       "[1.0*x1 - 1.0*x2 - 1.0*x3]])"
      ]
     },
     "execution_count": 8,
     "metadata": {},
     "output_type": "execute_result"
    }
   ],
   "source": [
    "g.equations"
   ]
  },
  {
   "cell_type": "code",
   "execution_count": 9,
   "metadata": {},
   "outputs": [],
   "source": [
    "appr = gpa1['approximation']"
   ]
  },
  {
   "cell_type": "code",
   "execution_count": 10,
   "metadata": {},
   "outputs": [
    {
     "data": {
      "text/plain": [
       "<gpa.gpa_update.GPA at 0x7f6aacf3d9b0>"
      ]
     },
     "execution_count": 10,
     "metadata": {},
     "output_type": "execute_result"
    }
   ],
   "source": [
    "g.solve_equations(start_approximation=appr, iterations=100, eps=0.001)"
   ]
  },
  {
   "cell_type": "code",
   "execution_count": 11,
   "metadata": {},
   "outputs": [
    {
     "name": "stdout",
     "output_type": "stream",
     "text": [
      "Matrix([[q2], [q1], [q3], [q4]])\n",
      "Matrix([[7.26600000000000], [-14.5323931046439], [7.26600000000000], [0.000393104643894025]])\n",
      "Matrix([[-1.0*x1 + 14.5323931046439], [1.0*x2 - 7.266], [1.0*x3 - 7.266], [1.0*x1 - 1.0*x2 - 1.0*x3 - 0.000393104643894025]])\n",
      "[(7.26600000000000, 14.5323931046439, 7.26600000000000)]\n"
     ]
    },
    {
     "data": {
      "text/plain": [
       "<gpa.gpa_update.GPA at 0x7f6aacf3d9b0>"
      ]
     },
     "execution_count": 11,
     "metadata": {},
     "output_type": "execute_result"
    }
   ],
   "source": [
    "g.construct_sense_matrix(base_approximation=g.last_approximation, d_approximation=d_a)"
   ]
  },
  {
   "cell_type": "code",
   "execution_count": 12,
   "metadata": {},
   "outputs": [
    {
     "data": {
      "text/plain": [
       "{'p1': 17, 'p3': 5, 'p4': 5, 'q2': 0}"
      ]
     },
     "execution_count": 12,
     "metadata": {},
     "output_type": "execute_result"
    }
   ],
   "source": [
    "g.base_approximation"
   ]
  },
  {
   "cell_type": "code",
   "execution_count": 13,
   "metadata": {},
   "outputs": [
    {
     "data": {
      "text/plain": [
       "{'p1': 17,\n",
       " 'p2': 8.82,\n",
       " 'p3': 5,\n",
       " 'p4': 5,\n",
       " 'q2': 0,\n",
       " 'x1': 14.533,\n",
       " 'x2': 7.266,\n",
       " 'x3': 7.266}"
      ]
     },
     "execution_count": 13,
     "metadata": {},
     "output_type": "execute_result"
    }
   ],
   "source": [
    "g.last_approximation"
   ]
  },
  {
   "cell_type": "code",
   "execution_count": 14,
   "metadata": {},
   "outputs": [],
   "source": [
    "appr_new = {\n",
    "    'p1': 17.001,\n",
    "    'p3': 5,\n",
    "    'p4': 5\n",
    "}"
   ]
  },
  {
   "cell_type": "code",
   "execution_count": 15,
   "metadata": {},
   "outputs": [
    {
     "data": {
      "text/plain": [
       "<gpa.gpa_update.GPA at 0x7f6aacf3d9b0>"
      ]
     },
     "execution_count": 15,
     "metadata": {},
     "output_type": "execute_result"
    }
   ],
   "source": [
    "g.solve_equations(base_approximation=appr_new, start_approximation=appr, eps=0.00000001)"
   ]
  },
  {
   "cell_type": "code",
   "execution_count": 16,
   "metadata": {},
   "outputs": [
    {
     "data": {
      "text/plain": [
       "{'p1': 17.0010000000000,\n",
       " 'p2': 8.82000000000000,\n",
       " 'p3': 5,\n",
       " 'p4': 5,\n",
       " 'x1': 14.5323931046439,\n",
       " 'x2': 7.26600000000000,\n",
       " 'x3': 7.26600000000000}"
      ]
     },
     "execution_count": 16,
     "metadata": {},
     "output_type": "execute_result"
    }
   ],
   "source": [
    "g.d_approximation"
   ]
  },
  {
   "cell_type": "code",
   "execution_count": 17,
   "metadata": {},
   "outputs": [
    {
     "data": {
      "text/plain": [
       "{'p1': 17.001,\n",
       " 'p2': 8.8208163,\n",
       " 'p3': 5,\n",
       " 'p4': 5,\n",
       " 'x1': 14.53365752,\n",
       " 'x2': 7.26682876,\n",
       " 'x3': 7.26682876}"
      ]
     },
     "execution_count": 17,
     "metadata": {},
     "output_type": "execute_result"
    }
   ],
   "source": [
    "g.last_approximation"
   ]
  },
  {
   "cell_type": "code",
   "execution_count": 18,
   "metadata": {},
   "outputs": [
    {
     "data": {
      "text/plain": [
       "{'p2': 160, 'x1': 60, 'x2': 50, 'x3': 50}"
      ]
     },
     "execution_count": 18,
     "metadata": {},
     "output_type": "execute_result"
    }
   ],
   "source": [
    "appr"
   ]
  },
  {
   "cell_type": "code",
   "execution_count": null,
   "metadata": {},
   "outputs": [],
   "source": []
  },
  {
   "cell_type": "code",
   "execution_count": 19,
   "metadata": {},
   "outputs": [
    {
     "data": {
      "text/plain": [
       "<gpa.gpa_update.GPA at 0x7f6aacf3d9b0>"
      ]
     },
     "execution_count": 19,
     "metadata": {},
     "output_type": "execute_result"
    }
   ],
   "source": [
    "g.solve_equations(base_approximation=appr_new, start_approximation=appr)"
   ]
  },
  {
   "cell_type": "code",
   "execution_count": 20,
   "metadata": {},
   "outputs": [
    {
     "data": {
      "text/plain": [
       "Matrix([\n",
       "[dq1],\n",
       "[dq2],\n",
       "[dq3],\n",
       "[dq4]])"
      ]
     },
     "execution_count": 20,
     "metadata": {},
     "output_type": "execute_result"
    }
   ],
   "source": [
    "g.d_q_of_all_nodes"
   ]
  },
  {
   "cell_type": "code",
   "execution_count": 21,
   "metadata": {},
   "outputs": [
    {
     "data": {
      "text/plain": [
       "[p2, x1, x2, x3]"
      ]
     },
     "execution_count": 21,
     "metadata": {},
     "output_type": "execute_result"
    }
   ],
   "source": [
    "g.variables"
   ]
  },
  {
   "cell_type": "code",
   "execution_count": 22,
   "metadata": {},
   "outputs": [
    {
     "data": {
      "text/plain": [
       "{'p1': 17.001,\n",
       " 'p2': 8.821,\n",
       " 'p3': 5,\n",
       " 'p4': 5,\n",
       " 'x1': 14.534,\n",
       " 'x2': 7.267,\n",
       " 'x3': 7.267}"
      ]
     },
     "execution_count": 22,
     "metadata": {},
     "output_type": "execute_result"
    }
   ],
   "source": [
    "g.last_approximation"
   ]
  },
  {
   "cell_type": "code",
   "execution_count": null,
   "metadata": {},
   "outputs": [],
   "source": []
  }
 ],
 "metadata": {
  "kernelspec": {
   "display_name": "Python 3",
   "language": "python",
   "name": "python3"
  },
  "language_info": {
   "codemirror_mode": {
    "name": "ipython",
    "version": 3
   },
   "file_extension": ".py",
   "mimetype": "text/x-python",
   "name": "python",
   "nbconvert_exporter": "python",
   "pygments_lexer": "ipython3",
   "version": "3.5.2"
  }
 },
 "nbformat": 4,
 "nbformat_minor": 2
}
