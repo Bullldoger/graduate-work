{
 "cells": [
  {
   "cell_type": "code",
   "execution_count": 1,
   "metadata": {},
   "outputs": [],
   "source": [
    "import sympy as sm\n",
    "\n",
    "import networkx as nx\n",
    "\n",
    "import matplotlib.pyplot as plt\n",
    "\n",
    "import pprint\n",
    "from pprint import pprint\n",
    "\n",
    "import numpy as np\n",
    "from numpy.linalg import det\n",
    "\n",
    "import math\n",
    "\n",
    "import copy\n",
    "from copy import deepcopy\n",
    "\n",
    "import json\n",
    "\n",
    "import itertools"
   ]
  },
  {
   "cell_type": "code",
   "execution_count": 2,
   "metadata": {},
   "outputs": [],
   "source": [
    "def disp_error_plot(errors=[], fig_size=10):\n",
    "    \n",
    "    plt.figure(figsize=(fig_size, fig_size))\n",
    "    \n",
    "    plt.plot(range(len(errors)), errors)\n",
    "    plt.show()"
   ]
  },
  {
   "cell_type": "code",
   "execution_count": 3,
   "metadata": {},
   "outputs": [],
   "source": [
    "def disp_graph_with_custom_labels(gr=None, \n",
    "                                  nodes_labels={}, \n",
    "                                  edges_labels={},\n",
    "                                  fig_size=8,\n",
    "                                  node_label=None, \n",
    "                                  edge_label=None):\n",
    "    plt.figure(figsize=(fig_size, fig_size))\n",
    "    \n",
    "    if not edge_label == None and not edge_label == '':\n",
    "        edges_labels = nx.get_edge_attributes(G=gr, name=edge_label)\n",
    "        \n",
    "    if not node_label == None and not node_label == '':\n",
    "        nodes_labels = nx.get_node_attributes(G=gr, name=node_label)\n",
    "\n",
    "    layout = nx.shell_layout(gr)\n",
    "    \n",
    "    nx.draw(G=gr, pos=layout, node_size=1500)\n",
    "    nx.draw_networkx_edge_labels(G=gr, \n",
    "                                 pos=layout, \n",
    "                                 edge_labels=edges_labels, \n",
    "                                 font_family='sans-serif')\n",
    "    nx.draw_networkx_labels(G=gr, \n",
    "                            pos=layout, \n",
    "                            labels=nodes_labels, \n",
    "                            font_family='sans-serif')\n",
    "    plt.show()"
   ]
  },
  {
   "cell_type": "code",
   "execution_count": 29,
   "metadata": {},
   "outputs": [],
   "source": [
    "class GPA:\n",
    "    \n",
    "    def __init__(self, params={}):\n",
    "        self.gpa = nx.DiGraph()\n",
    "        self.N_v = params['nodes']['count']\n",
    "        self.N_e = params['edges']['count']\n",
    "        \n",
    "        self.known_p_nodes = list()\n",
    "        self.known_q_nodes = list()\n",
    "        self.unknown_p = list()\n",
    "        self.unknown_q = list()\n",
    "        \n",
    "        self.knowns = dict()\n",
    "        \n",
    "        self.order = list()\n",
    "        \n",
    "        self.nodes_info = params['nodes']['nodes_info']\n",
    "        self.edges_info = params['edges']['edges_info']\n",
    "        \n",
    "        self.variables = list()\n",
    "        self.var_literals = list()\n",
    "        \n",
    "        self._read_nodes(self.nodes_info)\n",
    "        self._read_edges(self.edges_info)\n",
    "        \n",
    "        self._init_matrixes()\n",
    "        self._init_equations()\n",
    "        self._init_jacobi_matrix()\n",
    "        \n",
    "        self.solving_errors = list()\n",
    "        \n",
    "    \n",
    "    def _read_nodes(self, node_part={}):\n",
    "        \n",
    "        self.nodes_numeration = dict()\n",
    "        node_index = 0\n",
    "        for node, value in sorted(node_part.items(), key=lambda x: x[0]):\n",
    "            \n",
    "            self.nodes_numeration[node] = node_index\n",
    "            node_index += 1\n",
    "            \n",
    "            name = value['name']\n",
    "            P_info = value['P']\n",
    "            Q_info = value['Q']\n",
    "            \n",
    "            P = P_info['P']\n",
    "            P_max = P_info['P_max']\n",
    "            P_min = P_info['P_min']\n",
    "            \n",
    "            Q = Q_info['Q']\n",
    "            Q_max = Q_info['Q_max']\n",
    "            Q_min = Q_info['Q_min']\n",
    "            \n",
    "            \n",
    "            var_p = sm.symbols('p' + str(node))\n",
    "            var_q = sm.symbols('q' + str(node))\n",
    "            \n",
    "            self.unknown_p.append(var_p)\n",
    "            \n",
    "            if P == None:\n",
    "                P = sm.symbols('p' + str(node))\n",
    "                self.variables.append(P)\n",
    "                self.var_literals.append(str(P))\n",
    "            else:\n",
    "                self.knowns[str(var_p)] = P\n",
    "                self.known_p_nodes.append(node)\n",
    "                \n",
    "            if Q == None:\n",
    "                Q = sm.symbols('q' + str(node))\n",
    "                self.unknown_q.append(Q)\n",
    "            else:\n",
    "                self.knowns[str(var_q)] = Q\n",
    "                self.known_q_nodes.append(node)\n",
    "            \n",
    "            self.gpa.add_node(node, P=P, P_min=P_min, \n",
    "                              P_max=P_max, Q=Q, Q_min=Q_min, Q_max=Q_max, name=name, var=var_p)\n",
    "            \n",
    "        self.nodes = list(self.gpa.nodes())\n",
    "        \n",
    "        for node in self.known_q_nodes + self.known_p_nodes:\n",
    "            self.order.append(self.nodes.index(node))\n",
    "            \n",
    "        tmp_p = list()\n",
    "        for node in self.known_p_nodes:\n",
    "            tmp_p.append(self.nodes.index(node))\n",
    "        \n",
    "        tmp_q = list()\n",
    "        for node in self.known_q_nodes:\n",
    "            tmp_q.append(self.nodes.index(node))\n",
    "        \n",
    "        self.known_p_nodes, self.known_q_nodes = tmp_p, tmp_q\n",
    "            \n",
    "    def _read_edges(self, edge_part={}):\n",
    "        internal_nodes = np.zeros((2, self.N_v))\n",
    "        \n",
    "        for node_index, value in sorted(edge_part.items(), key=lambda v: int(v[0][0])):\n",
    "            u = value['u']\n",
    "            v = value['v']\n",
    "            A = value['A']\n",
    "            x = value['x']\n",
    "            \n",
    "            u_index = self.nodes_numeration[u]\n",
    "            v_index = self.nodes_numeration[v]\n",
    "            \n",
    "            internal_nodes[0, u_index] += 1\n",
    "            internal_nodes[1, v_index] += 1\n",
    "            \n",
    "            if x == None:\n",
    "                x = sm.symbols('x' + str(node_index))\n",
    "                self.variables.append(x)\n",
    "                self.var_literals.append(str(x))\n",
    "            \n",
    "            self.gpa.add_edge(u_of_edge=u, v_of_edge=v, A=A, x=x)\n",
    "            \n",
    "        internal_nodes = np.logical_and(internal_nodes[0, :], internal_nodes[1, :])\n",
    "        self.internal_nodes = set()\n",
    "        for node_index, is_internal in enumerate(internal_nodes):\n",
    "            if is_internal:\n",
    "                self.internal_nodes.add(str(node_index + 1))\n",
    "           \n",
    "        \n",
    "    def _init_matrixes(self):\n",
    "        self.X = sm.zeros(rows=self.N_e, cols=1)\n",
    "        for edge in self.gpa.edges():\n",
    "            edge_index = list(self.gpa.edges()).index(edge)\n",
    "            edge_params = self.gpa.edges[edge]\n",
    "\n",
    "            self.X[edge_index] = edge_params['x']\n",
    "        \n",
    "        self.X = np.array(self.X)\n",
    "        self.A = np.array(nx.incidence_matrix(self.gpa, oriented=True).todense())\n",
    "        self.Q = sm.Matrix(np.dot(self.A, self.X))\n",
    "        \n",
    "        self.P = sm.zeros(rows=self.N_v, cols=1)\n",
    "        for node in self.gpa.nodes():\n",
    "            node_index = list(self.gpa.nodes()).index(node)\n",
    "            node_params = self.gpa.nodes[node]\n",
    "            \n",
    "            self.P[node_index] = node_params['P']\n",
    "\n",
    "        self.X = sm.Matrix(self.X)\n",
    "        self.Q = sm.Matrix(self.Q)\n",
    "        self.A = sm.Matrix(self.A)\n",
    "        \n",
    "        self.AF = deepcopy(self.A)\n",
    "        \n",
    "        for row in range(self.AF.shape[0]):\n",
    "            for col in range(self.AF.shape[1]):\n",
    "                if self.AF[row, col] == -1:\n",
    "                    self.AF[row, col] = 0\n",
    "        \n",
    "        self.AL = -(self.A - self.AF)\n",
    "        \n",
    "        self.DF = sm.zeros(len(self.gpa.edges()), 1)\n",
    "        self.DL = sm.zeros(len(self.gpa.edges()), 1)\n",
    "        \n",
    "        for eq_index, edge in enumerate(self.gpa.edges()):\n",
    "            u = edge[0]\n",
    "            v = edge[1]\n",
    "            \n",
    "            p_s = self.gpa.nodes[u]['var']\n",
    "            p_f = self.gpa.nodes[v]['var']\n",
    "            \n",
    "            eq = p_s ** 2 - p_f ** 2\n",
    "            \n",
    "            self.DF[eq_index] = sm.diff(eq, p_s).subs(self.knowns.items())\n",
    "            self.DL[eq_index] = -sm.diff(eq, p_f).subs(self.knowns.items())\n",
    "        \n",
    "        self.DF = sm.diag(*self.DF)\n",
    "        self.DL = sm.diag(*self.DL)\n",
    "        \n",
    "    def _init_equations(self):\n",
    "        edges = self.gpa.edges()\n",
    "        nodes = self.gpa.nodes()\n",
    "\n",
    "        self.equations = list()\n",
    "        \n",
    "        pos = 0\n",
    "        \n",
    "        for u, v in sorted(self.gpa.edges(), key=lambda x: int(x[0])):\n",
    "            P_s = nodes[u]['P']\n",
    "            P_f = nodes[v]['P']\n",
    "            Q = edges[(u, v)]['x']\n",
    "            A = edges[(u, v)]['A']\n",
    "\n",
    "            eq = P_s ** 2 - P_f ** 2 - A * Q ** 2\n",
    "            \n",
    "            self.equations.append(eq)\n",
    "        \n",
    "        for el in self.internal_nodes:\n",
    "            eq_index = list(self.gpa.nodes()).index(el)\n",
    "            eq = deepcopy(self.Q[eq_index])\n",
    "            \n",
    "            self.equations.append(eq)\n",
    "            self.Q[eq_index] = self.gpa.nodes[el]['Q']\n",
    "        self.equations = sm.Matrix(self.equations)\n",
    "        \n",
    "    \n",
    "    def _init_jacobi_matrix(self):\n",
    "        self.Jacobi_matrixes = dict()\n",
    "        self.Jacobi = sm.zeros(len(self.equations), len(self.variables))\n",
    "        for eq_index, eq in enumerate(self.equations):\n",
    "            for var_index, var in enumerate(self.variables):        \n",
    "                eq_d = sm.diff(eq, var)\n",
    "                self.Jacobi[eq_index, var_index] = eq_d\n",
    "                \n",
    "        for var_index, var in enumerate(self.variables):\n",
    "            jacobi_var = deepcopy(self.Jacobi)\n",
    "            jacobi_var[:, var_index] = self.equations\n",
    "            self.Jacobi_matrixes[str(var)] = jacobi_var\n",
    "            \n",
    "            \n",
    "    def _solve_step(self, approximation):\n",
    "        solve_system = dict()\n",
    "        for var, jacobi_var in self.Jacobi_matrixes.items():\n",
    "            jacobi = deepcopy(self.Jacobi)\n",
    "            \n",
    "            jacobi = jacobi.subs(approximation.items()).det()\n",
    "            jacobi_var = jacobi_var.subs(approximation.items()).det()\n",
    "            \n",
    "            solve_system[var] = jacobi_var / jacobi\n",
    "            \n",
    "        for var, value in solve_system.items():\n",
    "            approximation[var] = approximation[var] - value\n",
    "        \n",
    "        return approximation\n",
    "\n",
    "    \n",
    "    def subs_approximation(self, approximation):\n",
    "        for node in self.gpa.nodes():\n",
    "            node_info = self.gpa.nodes[node]\n",
    "            for var, value in approximation.items():\n",
    "                if str(node_info['P']) == var:\n",
    "                    node_info['P'] = value\n",
    "\n",
    "        for edge in self.gpa.edges():\n",
    "            edge_info = self.gpa.edges[edge]\n",
    "            for var, value in approximation.items():\n",
    "                if str(edge_info['x']) == var:\n",
    "                    edge_info['x'] = value\n",
    "    \n",
    "    \n",
    "    def solve_equations(self, start_approximation=None, eps=0.001, iterations=25):\n",
    "        \n",
    "        if not start_approximation:\n",
    "            raise KeyError('Начальное приближение не задано!')\n",
    "        \n",
    "        start_approximation_vars = list(start_approximation.keys())\n",
    "        \n",
    "        for var in self.var_literals:\n",
    "            if not var in start_approximation_vars:\n",
    "                raise KeyError('Не задано начальное значение для ' + str(var))\n",
    "        \n",
    "        approximation = start_approximation\n",
    "        errors = list()\n",
    "        \n",
    "        for _ in range(iterations):\n",
    "            approximation = self._solve_step(approximation)\n",
    "            error = deepcopy(self.equations.subs(approximation.items())).norm()\n",
    "            errors.append(error)\n",
    "            \n",
    "            if error < eps:\n",
    "                break\n",
    "        \n",
    "        points = -int(math.log10(eps))\n",
    "        \n",
    "        for var in approximation:\n",
    "            approximation[var] = round(approximation[var], points)\n",
    "        \n",
    "        self.solve = approximation\n",
    "        self.solving_errors = errors\n",
    "        self.subs_approximation(self.solve)\n",
    "        \n",
    "        return approximation\n",
    "    \n",
    "    \n",
    "    def construct_sense_matrix(self):\n",
    "        self.p_var = self.P[self.known_q_nodes, :]\n",
    "        self.p_fix = self.P[self.known_p_nodes, :]\n",
    "        self.q_var = self.Q[self.known_p_nodes, :]\n",
    "        self.q_fix = self.Q[self.known_q_nodes, :]\n",
    "        \n",
    "        aq = self.A[self.known_q_nodes, :]\n",
    "        ap = self.A[self.known_p_nodes, :]\n",
    "        \n",
    "        aqf = self.AF[self.known_q_nodes, :]\n",
    "        apf = self.AF[self.known_p_nodes, :]\n",
    "        \n",
    "        aql = self.AL[self.known_q_nodes, :]\n",
    "        apl = self.AL[self.known_p_nodes, :]\n",
    "        \n",
    "        df = self.DF\n",
    "        dl = self.DL\n",
    "        \n",
    "        self.M = sm.Matrix(sm.MatMul(aq, sm.Matrix(sm.MatAdd(sm.Matrix(sm.MatMul(df, sm.Matrix(aqf.T))),\n",
    "                                                        sm.Matrix(sm.MatMul(dl, sm.Matrix(aql.T)))))))\n",
    "        \n",
    "        self.M_PQ = sm.Matrix(sm.MatMul(ap, sm.Matrix(sm.MatAdd(sm.Matrix(sm.MatMul(df, sm.Matrix(aqf.T))),\n",
    "                                                           sm.Matrix(sm.MatMul(dl, sm.Matrix(aql.T)))))))\n",
    "        \n",
    "        self.M_QP = sm.Matrix(sm.MatMul(aq, sm.Matrix(sm.MatAdd(sm.Matrix(sm.MatMul(df, sm.Matrix(apf.T))), \n",
    "                                                 sm.Matrix(sm.MatMul(dl, sm.Matrix(apl.T)))))))\n",
    "        \n",
    "        self.M_PP = sm.Matrix(sm.MatMul(ap, sm.Matrix(sm.MatAdd(sm.Matrix(sm.MatMul(df, sm.Matrix(apf.T))), \n",
    "                                                           sm.Matrix(sm.MatMul(dl, sm.Matrix(apl.T)))))))\n",
    "        "
   ]
  },
  {
   "cell_type": "code",
   "execution_count": 42,
   "metadata": {},
   "outputs": [],
   "source": [
    "path = 'models/gpa_1.json'\n",
    "\n",
    "with open(path, 'r') as fp:\n",
    "    gpa1 = json.load(fp)"
   ]
  },
  {
   "cell_type": "code",
   "execution_count": 43,
   "metadata": {},
   "outputs": [],
   "source": [
    "path = 'models/gpa_2.json'\n",
    "\n",
    "with open(path, 'r') as fp:\n",
    "    gpa2 = json.load(fp)"
   ]
  },
  {
   "cell_type": "code",
   "execution_count": 44,
   "metadata": {},
   "outputs": [],
   "source": [
    "g1 = GPA(gpa1)\n",
    "g1.construct_sense_matrix()"
   ]
  },
  {
   "cell_type": "code",
   "execution_count": 45,
   "metadata": {},
   "outputs": [],
   "source": [
    "g2 = GPA(gpa2)\n",
    "g2.construct_sense_matrix()"
   ]
  },
  {
   "cell_type": "code",
   "execution_count": 48,
   "metadata": {},
   "outputs": [
    {
     "name": "stdout",
     "output_type": "stream",
     "text": [
      "Matrix([[-4.0]])\n",
      "Matrix([\n",
      "[-2.0*p3 - 2.0*p4 + 16.0, -2.0*p2, -2.0*p2],\n",
      "[                 2.0*p3,  2.0*p2,       0],\n",
      "[                 2.0*p4,       0,  2.0*p2]])\n"
     ]
    }
   ],
   "source": [
    "pprint(g1.M)\n",
    "pprint(g2.M)"
   ]
  },
  {
   "cell_type": "code",
   "execution_count": 49,
   "metadata": {},
   "outputs": [
    {
     "name": "stdout",
     "output_type": "stream",
     "text": [
      "Matrix([\n",
      "[-16.0],\n",
      "[ 10.0],\n",
      "[ 10.0]])\n",
      "Matrix([[-16.0, 0, 0]])\n"
     ]
    }
   ],
   "source": [
    "pprint(g1.M_PQ)\n",
    "pprint(g2.M_PQ)"
   ]
  },
  {
   "cell_type": "code",
   "execution_count": 50,
   "metadata": {},
   "outputs": [
    {
     "name": "stdout",
     "output_type": "stream",
     "text": [
      "Matrix([[2.0*p2, -2.0*p2, -2.0*p2]])\n",
      "Matrix([\n",
      "[2.0*p2],\n",
      "[     0],\n",
      "[     0]])\n"
     ]
    }
   ],
   "source": [
    "pprint(g1.M_QP)\n",
    "pprint(g2.M_QP)"
   ]
  },
  {
   "cell_type": "code",
   "execution_count": 51,
   "metadata": {},
   "outputs": [
    {
     "name": "stdout",
     "output_type": "stream",
     "text": [
      "Matrix([\n",
      "[-2.0*p2,      0,      0],\n",
      "[      0, 2.0*p2,      0],\n",
      "[      0,      0, 2.0*p2]])\n",
      "Matrix([[-2.0*p2]])\n"
     ]
    }
   ],
   "source": [
    "pprint(g1.M_PP)\n",
    "pprint(g2.M_PP)"
   ]
  },
  {
   "cell_type": "code",
   "execution_count": 36,
   "metadata": {},
   "outputs": [
    {
     "data": {
      "text/plain": [
       "Matrix([[p2]])"
      ]
     },
     "execution_count": 36,
     "metadata": {},
     "output_type": "execute_result"
    }
   ],
   "source": [
    "g1.p_var"
   ]
  },
  {
   "cell_type": "code",
   "execution_count": 37,
   "metadata": {},
   "outputs": [
    {
     "data": {
      "text/plain": [
       "Matrix([\n",
       "[8],\n",
       "[5],\n",
       "[5]])"
      ]
     },
     "execution_count": 37,
     "metadata": {},
     "output_type": "execute_result"
    }
   ],
   "source": [
    "g1.p_fix"
   ]
  },
  {
   "cell_type": "code",
   "execution_count": 38,
   "metadata": {},
   "outputs": [
    {
     "data": {
      "text/plain": [
       "Matrix([\n",
       "[-1.0*x1],\n",
       "[ 1.0*x2],\n",
       "[ 1.0*x3]])"
      ]
     },
     "execution_count": 38,
     "metadata": {},
     "output_type": "execute_result"
    }
   ],
   "source": [
    "g1.q_var"
   ]
  },
  {
   "cell_type": "code",
   "execution_count": 39,
   "metadata": {},
   "outputs": [
    {
     "data": {
      "text/plain": [
       "Matrix([[0]])"
      ]
     },
     "execution_count": 39,
     "metadata": {},
     "output_type": "execute_result"
    }
   ],
   "source": [
    "g1.q_fix"
   ]
  },
  {
   "cell_type": "code",
   "execution_count": null,
   "metadata": {},
   "outputs": [],
   "source": []
  }
 ],
 "metadata": {
  "kernelspec": {
   "display_name": "Python 3",
   "language": "python",
   "name": "python3"
  },
  "language_info": {
   "codemirror_mode": {
    "name": "ipython",
    "version": 3
   },
   "file_extension": ".py",
   "mimetype": "text/x-python",
   "name": "python",
   "nbconvert_exporter": "python",
   "pygments_lexer": "ipython3",
   "version": "3.5.2"
  }
 },
 "nbformat": 4,
 "nbformat_minor": 2
}
