{
 "cells": [
  {
   "cell_type": "code",
   "execution_count": 18,
   "metadata": {
    "collapsed": true
   },
   "outputs": [],
   "source": [
    "import sympy as sm\n",
    "import networkx as nx\n",
    "import matplotlib.pyplot as plt\n",
    "from pprint import pprint\n",
    "import numpy as np\n",
    "import math\n",
    "from copy import deepcopy\n",
    "import itertools"
   ]
  },
  {
   "cell_type": "code",
   "execution_count": 19,
   "metadata": {
    "collapsed": true
   },
   "outputs": [],
   "source": [
    "round_count = 2\n",
    "cer = 10\n",
    "eps = 1e-6\n",
    "lam = 10\n",
    "steps = 250\n",
    "\n",
    "files = [\n",
    "    'gpa-1.txt',\n",
    "    'gpa-2.txt',\n",
    "    'undetermine-system.txt'\n",
    "]"
   ]
  },
  {
   "cell_type": "code",
   "execution_count": 20,
   "metadata": {
    "collapsed": true
   },
   "outputs": [],
   "source": [
    "def cacl_jac(all_symbols=[], equations=[]):\n",
    "    jacobi = sm.zeros(len(all_symbols), len(all_symbols))\n",
    "    for var_i in range(len(all_symbols)):\n",
    "        var = all_symbols[var_i]\n",
    "        for eq_i in range(len(equations)):\n",
    "            eq = equations[eq_i]\n",
    "            jacobi[eq_i, var_i] = sm.diff(eq, var)\n",
    "        \n",
    "    jacobian = jacobi.det()\n",
    "    \n",
    "    return jacobi, jacobian"
   ]
  },
  {
   "cell_type": "code",
   "execution_count": 21,
   "metadata": {
    "collapsed": true
   },
   "outputs": [],
   "source": [
    "def disp_graph_with_custom_labels(gr=None, \n",
    "                                  nodes_labels={}, \n",
    "                                  edges_labels={},\n",
    "                                  fig_size=8,\n",
    "                                  node_label=None, \n",
    "                                  edge_label=None):\n",
    "    plt.figure(figsize=(fig_size, fig_size))\n",
    "    \n",
    "    if not edge_label == None and not edge_label == '':\n",
    "        edges_labels = nx.get_edge_attributes(G=gr, name=edge_label)\n",
    "#         print('edge attr for print : ' + edge_label)\n",
    "        \n",
    "    if not node_label == None and not node_label == '':\n",
    "        nodes_labels = nx.get_node_attributes(G=gr, name=node_label)\n",
    "#         print('node attr for print : ' + node_label)\n",
    "        \n",
    "    \n",
    "#     print(nodes_labels)\n",
    "#     print(edges_labels)\n",
    "    \n",
    "    layout = nx.shell_layout(gr)\n",
    "    \n",
    "    nx.draw(G=gr, pos=layout, node_size=1500)\n",
    "    nx.draw_networkx_edge_labels(G=gr, pos=layout, edge_labels=edges_labels, font_family='sans-serif')\n",
    "    nx.draw_networkx_labels(G=gr, pos=layout, labels=nodes_labels, font_family='sans-serif')\n",
    "    plt.show()"
   ]
  },
  {
   "cell_type": "code",
   "execution_count": 22,
   "metadata": {
    "collapsed": true
   },
   "outputs": [],
   "source": [
    "def subs_to_graph_new_values(gr=None, values=[]):\n",
    "    q = nx.get_edge_attributes(G=gr, name='q')\n",
    "    p = nx.get_node_attributes(G=gr, name='p')\n",
    "\n",
    "    for sub_expr in values:\n",
    "        sym = sub_expr[0]\n",
    "        val = round(sub_expr[1], round_count)\n",
    "\n",
    "        for edge_param in list(q.items()):\n",
    "            if sym == str(edge_param[1]):\n",
    "                q[edge_param[0]] = val\n",
    "\n",
    "        for node_param in list(p.items()):\n",
    "            if sym == str(node_param[1]):\n",
    "                p[node_param[0]] = val\n",
    "\n",
    "#     print(q)\n",
    "#     print(p)\n",
    "\n",
    "    nx.set_edge_attributes(G=gr, name='q', values=q)\n",
    "    nx.set_node_attributes(G=gr, name='p', values=p)"
   ]
  },
  {
   "cell_type": "code",
   "execution_count": 23,
   "metadata": {
    "collapsed": true
   },
   "outputs": [],
   "source": [
    "def disp_graph(gr=None, edge_label='q',\n",
    "               node_label='p',\n",
    "               fig_size=8):\n",
    "    \n",
    "    plt.figure(figsize=(fig_size, fig_size))\n",
    "    \n",
    "    edges_labels = nx.get_edge_attributes(G=gr, name=edge_label)\n",
    "    nodes_labels = nx.get_node_attributes(G=gr, name=node_label)\n",
    "    \n",
    "    layout = nx.shell_layout(gr)\n",
    "    \n",
    "    nx.draw(G=gr, pos=layout, node_size=1500)\n",
    "    nx.draw_networkx_edge_labels(G=gr, pos=layout, edge_labels=edges_labels, font_family='sans-serif')\n",
    "    nx.draw_networkx_labels(G=gr, pos=layout, labels=nodes_labels, font_family='sans-serif')\n",
    "    plt.show()"
   ]
  },
  {
   "cell_type": "code",
   "execution_count": 24,
   "metadata": {
    "collapsed": true,
    "scrolled": false
   },
   "outputs": [],
   "source": [
    "def read_graph(path=''):\n",
    "    all_symbols = []\n",
    "\n",
    "    gpa = nx.DiGraph()\n",
    "\n",
    "    with open(path, 'r') as input:\n",
    "        line = input.readline()\n",
    "\n",
    "        params = list(map(lambda x : int(x), line.split(' ')))\n",
    "        V, E = params[0], params[1]\n",
    "\n",
    "        graph_params = {\n",
    "            'nodes' : dict(),\n",
    "            'edges' : dict()\n",
    "        }\n",
    "\n",
    "        for i in range(V):\n",
    "            params = list(map(lambda x : int(x), input.readline().split(' ')))\n",
    "            node = params[0]\n",
    "\n",
    "    #         print(params, i, V)\n",
    "            code = True\n",
    "            if len(params) == 1:\n",
    "                p_i = sm.symbols('p' + str(i + 1))\n",
    "                code = True\n",
    "                all_symbols.append(p_i)\n",
    "            else:\n",
    "                p_i = params[1]\n",
    "                code = False\n",
    "            gpa.add_node(node, p=p_i, code=code)\n",
    "\n",
    "        for i in range(E):\n",
    "            params = list(map(lambda x : int(x), input.readline().split(' ')))\n",
    "\n",
    "    #         print(params, i, E)\n",
    "\n",
    "            u = params[0]\n",
    "            v = params[1]\n",
    "            l = params[2]\n",
    "            d = params[3]\n",
    "            code = True\n",
    "            if len(params) == 4:\n",
    "                q_i = sm.symbols('q' + str(i + 1))\n",
    "                all_symbols.append(q_i)\n",
    "            else:\n",
    "                q_i = params[4]\n",
    "                code = False\n",
    "            gpa.add_edge(u=u, v=v, q=q_i, L=l, D=d, code=code)\n",
    "\n",
    "#     disp_graph(gr=gpa, edge_label='q', node_label='p', fig_size=5)\n",
    "    return gpa, all_symbols"
   ]
  },
  {
   "cell_type": "code",
   "execution_count": 25,
   "metadata": {
    "collapsed": true
   },
   "outputs": [],
   "source": [
    "def get_equations(gr=None, all_symbols=[]):\n",
    "    q = nx.get_edge_attributes(G=gr, name='q')\n",
    "    p = nx.get_node_attributes(G=gr, name='p')\n",
    "    l = nx.get_edge_attributes(G=gr, name='L')\n",
    "    d = nx.get_edge_attributes(G=gr, name='D')\n",
    "    \n",
    "    equations = []\n",
    "\n",
    "    for edge, param in q.items():\n",
    "        qc = param\n",
    "        pcs = p[edge[0]]\n",
    "        pcf = p[edge[1]]\n",
    "        dc = d[edge]\n",
    "        lc = l[edge]\n",
    "\n",
    "        counter = 0\n",
    "\n",
    "        eq = pcs * pcs - pcf * pcf - qc * qc * lc * dc ** 5\n",
    "\n",
    "        fl = True\n",
    "        for sym in all_symbols:\n",
    "            expr = sm.diff(eq, sym)\n",
    "            fl = fl and expr == 0\n",
    "\n",
    "    #     print(eq, fl, counter)\n",
    "\n",
    "        if not fl:\n",
    "            equations.append(eq)\n",
    "\n",
    "    edge_list = list(gr.edges())\n",
    "    temp = np.zeros((len(edge_list), 2))\n",
    "    for i in range(len(edge_list)):\n",
    "        edge = edge_list[i]\n",
    "        temp[i][0] = edge[0]\n",
    "        temp[i][1] = edge[1]\n",
    "\n",
    "    edges = temp\n",
    "\n",
    "    for node in gr.nodes:\n",
    "\n",
    "        eq = 0\n",
    "        counter = 0\n",
    "        for temp_edge in edges:\n",
    "            if temp_edge[0] == node:\n",
    "                qc = q[(temp_edge[0], temp_edge[1])]\n",
    "                eq += qc\n",
    "                counter += 1\n",
    "            if temp_edge[1] == node:\n",
    "                qc = q[(temp_edge[0], temp_edge[1])]\n",
    "                eq -= qc\n",
    "                counter += 1\n",
    "\n",
    "        fl = True\n",
    "        for sym in all_symbols:\n",
    "            expr = sm.diff(eq, sym)\n",
    "            fl = fl and expr == 0\n",
    "\n",
    "    #     print(eq, fl, counter)\n",
    "\n",
    "        if not fl and counter > 1:\n",
    "            equations.append(eq)\n",
    "\n",
    "    for i in range(len(equations)):\n",
    "        print('equation ' + str(i + 1) + ' : ' + str(equations[i]))\n",
    "\n",
    "#     print('vars : ', all_symbols)\n",
    "\n",
    "    return equations"
   ]
  },
  {
   "cell_type": "code",
   "execution_count": 26,
   "metadata": {
    "collapsed": true
   },
   "outputs": [],
   "source": [
    "def get_newton_equations(equations=[], all_symbols=[]):\n",
    "    jacobi, jacobian = cacl_jac(all_symbols=all_symbols, equations=equations)\n",
    "    \n",
    "    eqs = []\n",
    "    eq = sm.Matrix(deepcopy(equations))\n",
    "    \n",
    "    for i in range(len(all_symbols)):\n",
    "        f_i = deepcopy(jacobi)\n",
    "        f_i[:, i] = eq\n",
    "        f_i = f_i.det()\n",
    "\n",
    "        f_i = sm.simplify(f_i / jacobian)\n",
    "\n",
    "        eqs.append(f_i)\n",
    "        \n",
    "    return eqs"
   ]
  },
  {
   "cell_type": "code",
   "execution_count": 27,
   "metadata": {
    "collapsed": true
   },
   "outputs": [],
   "source": [
    "def subs(values=[], eqs=[]):  \n",
    "    ans = [round(float(eq.subs(values)), round_count) for eq in eqs]\n",
    "    \n",
    "#     print(ans)\n",
    "    \n",
    "    return ans"
   ]
  },
  {
   "cell_type": "code",
   "execution_count": 28,
   "metadata": {
    "collapsed": true
   },
   "outputs": [],
   "source": [
    "def solving(values=[], eqs=[], steps=25, eps=0.001):\n",
    "    cer = 1\n",
    "    ers = []\n",
    "\n",
    "    while cer > eps and steps > 0:\n",
    "        er = []\n",
    "        try:\n",
    "            ans = subs(eqs=eqs, values=values)\n",
    "#             print(ans)\n",
    "            \n",
    "            for i in range(len(values)):\n",
    "                values[i][1] = values[i][1] - ans[i]\n",
    "                \n",
    "#                 print(ans[i])\n",
    "                er.append(math.fabs(ans[i]))\n",
    "\n",
    "            er = np.linalg.norm(np.array(er))\n",
    "            ers.append(er)\n",
    "            cer = er\n",
    "\n",
    "            steps -= 1\n",
    "\n",
    "        except Exception as ex:\n",
    "            print('Ooops', steps, cer, ex)\n",
    "            break\n",
    "    \n",
    "    return values, ers"
   ]
  },
  {
   "cell_type": "markdown",
   "metadata": {},
   "source": [
    "# Реализация метода Ньютона"
   ]
  },
  {
   "cell_type": "code",
   "execution_count": 29,
   "metadata": {
    "collapsed": true
   },
   "outputs": [],
   "source": [
    "def calc(path='', values=[]):\n",
    "    gpa, all_symbols = read_graph(path=path)\n",
    "    \n",
    "    disp_graph_with_custom_labels(gr=gpa, edge_label='q', node_label='p')\n",
    "    \n",
    "    equations = get_equations(gr=gpa, all_symbols=all_symbols)\n",
    "    \n",
    "    print()\n",
    "    print('Переменных :', len(all_symbols))\n",
    "    print(all_symbols)\n",
    "    print('Уравнений :', len(equations))\n",
    "    print()\n",
    "    \n",
    "    eqs = get_newton_equations(all_symbols=all_symbols, equations=equations)\n",
    "    \n",
    "    values, ers = solving(values=values, eqs=eqs)\n",
    "\n",
    "    subs_to_graph_new_values(values=values, gr=gpa)\n",
    "    disp_graph(gr=gpa, edge_label='q', node_label='p')\n",
    "\n",
    "    plt.figure(figsize=(10, 10))\n",
    "    plt.plot(range(len(ers)), ers, 'b')\n",
    "    plt.plot(range(len(ers)), ers, 'ro')\n",
    "    plt.ylabel(s='Норма изменения')\n",
    "    plt.xlabel(s='Номер шага')\n",
    "    plt.grid()\n",
    "    plt.show()\n",
    "\n",
    "#     print('Результат : ')\n",
    "#     pprint(values)\n",
    "\n",
    "    print('\\nError : ' + str(min(ers)))\n",
    "    \n",
    "    return gpa"
   ]
  },
  {
   "cell_type": "code",
   "execution_count": 30,
   "metadata": {
    "scrolled": false
   },
   "outputs": [
    {
     "data": {
      "image/png": "[encoded data removed]",
      "text/plain": [
       "<matplotlib.figure.Figure at 0x7f00e267e780>"
      ]
     },
     "metadata": {},
     "output_type": "display_data"
    },
    {
     "name": "stdout",
     "output_type": "stream",
     "text": [
      "equation 1 : -p2**2 - 12*q1**2 + 100\n",
      "equation 2 : p2**2 - 12*q2**2 - 25\n",
      "equation 3 : p2**2 - 12*q3**2 - 25\n",
      "equation 4 : -q1 + q2 + q3\n",
      "\n",
      "Переменных : 4\n",
      "[p2, q1, q2, q3]\n",
      "Уравнений : 4\n",
      "\n"
     ]
    },
    {
     "data": {
      "image/png": "[encoded data removed]",
      "text/plain": [
       "<matplotlib.figure.Figure at 0x7f00e2656518>"
      ]
     },
     "metadata": {},
     "output_type": "display_data"
    },
    {
     "data": {
      "image/png": "[encoded data removed]",
      "text/plain": [
       "<matplotlib.figure.Figure at 0x7f00e2651cf8>"
      ]
     },
     "metadata": {},
     "output_type": "display_data"
    },
    {
     "name": "stdout",
     "output_type": "stream",
     "text": [
      "\n",
      "Error : 0.0\n"
     ]
    }
   ],
   "source": [
    "# #Для gpa-1.txt\n",
    "# values = [\n",
    "#     ['p2', 160],\n",
    "#     ['p4', 160],\n",
    "#     ['q1', 60],\n",
    "#     ['q2', 50],\n",
    "#     ['q3', 50],\n",
    "#     ['q4', 50],\n",
    "#     ['q5', 54],\n",
    "#     ['q6', 55]\n",
    "# ]\n",
    "\n",
    "#Для gpa-2.txt\n",
    "values = [\n",
    "    ['p2', 10],\n",
    "    ['q1', 3],\n",
    "    ['q2', 2],\n",
    "    ['q3', 2]\n",
    "]\n",
    "\n",
    "gpa = calc(path='gpa-2.txt', values=values)"
   ]
  },
  {
   "cell_type": "code",
   "execution_count": 50,
   "metadata": {},
   "outputs": [],
   "source": [
    "interest_nodes = set()\n",
    "\n",
    "for node_index in gpa.nodes():\n",
    "    node = gpa.node[node_index]\n",
    "    if node['code']:\n",
    "        interest_nodes.add(node_index)"
   ]
  },
  {
   "cell_type": "code",
   "execution_count": 53,
   "metadata": {},
   "outputs": [
    {
     "name": "stdout",
     "output_type": "stream",
     "text": [
      "[2, 3]\n"
     ]
    }
   ],
   "source": [
    "for i in interest_nodes:\n",
    "    try:\n",
    "        ans = nx.dijkstra_path(gpa, i, 3)\n",
    "    except Exception:\n",
    "        print(i, 2)"
   ]
  },
  {
   "cell_type": "code",
   "execution_count": null,
   "metadata": {
    "collapsed": true
   },
   "outputs": [],
   "source": []
  }
 ],
 "metadata": {
  "kernelspec": {
   "display_name": "Python 3",
   "language": "python",
   "name": "python3"
  },
  "language_info": {
   "codemirror_mode": {
    "name": "ipython",
    "version": 3
   },
   "file_extension": ".py",
   "mimetype": "text/x-python",
   "name": "python",
   "nbconvert_exporter": "python",
   "pygments_lexer": "ipython3",
   "version": "3.5.2"
  }
 },
 "nbformat": 4,
 "nbformat_minor": 2
}
