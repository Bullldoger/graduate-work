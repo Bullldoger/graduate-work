{
 "cells": [
  {
   "cell_type": "code",
   "execution_count": 1,
   "metadata": {
    "collapsed": true
   },
   "outputs": [],
   "source": [
    "import sympy as sm\n",
    "import networkx as nx\n",
    "import matplotlib.pyplot as plt\n",
    "from pprint import pprint\n",
    "import numpy as np\n",
    "import math\n",
    "from copy import deepcopy\n",
    "import itertools"
   ]
  },
  {
   "cell_type": "code",
   "execution_count": 2,
   "metadata": {
    "collapsed": true
   },
   "outputs": [],
   "source": [
    "round_count = 2\n",
    "cer = 10\n",
    "eps = 1e-3\n",
    "lam = 10\n",
    "steps = 35\n",
    "\n",
    "files = [\n",
    "    'gpa-1.txt',\n",
    "    'gpa-2.txt',\n",
    "    'undetermine-system.txt'\n",
    "]\n",
    "\n",
    "values_gpa = {\n",
    "    '1' : [\n",
    "        ['p2', 10],\n",
    "        ['p4', 10],\n",
    "        ['q1', 4],\n",
    "        ['q2', 4],\n",
    "        ['q3', 4],\n",
    "        ['q4', 4],\n",
    "        ['q5', 4]\n",
    "    ],\n",
    "    '2': [\n",
    "        ['p2', 160],\n",
    "        ['q1', 60],\n",
    "        ['q2', 50],\n",
    "        ['q3', 50]\n",
    "    ],\n",
    "    '3': [\n",
    "        ['p2', 160],\n",
    "        ['p3', 100],\n",
    "        ['q1', 60],\n",
    "        ['q2', 50],\n",
    "        ['q3', 50],\n",
    "        ['q4', 10]\n",
    "    ],\n",
    "    '4':[\n",
    "        ['p2', 160],\n",
    "        ['p3', 100],\n",
    "        ['p4', 100],\n",
    "        ['q1', 60],\n",
    "    ]\n",
    "}"
   ]
  },
  {
   "cell_type": "code",
   "execution_count": 3,
   "metadata": {
    "collapsed": true
   },
   "outputs": [],
   "source": [
    "def cacl_jac(all_symbols=[], equations=[]):\n",
    "    jacobi = sm.zeros(len(all_symbols), len(all_symbols))\n",
    "    for var_i in range(len(all_symbols)):\n",
    "        var = all_symbols[var_i]\n",
    "        for eq_i in range(len(equations)):\n",
    "            eq = equations[eq_i]\n",
    "            jacobi[eq_i, var_i] = sm.diff(eq, var)\n",
    "        \n",
    "    jacobian = jacobi.det()\n",
    "    \n",
    "    return jacobi, jacobian"
   ]
  },
  {
   "cell_type": "code",
   "execution_count": 4,
   "metadata": {
    "collapsed": true
   },
   "outputs": [],
   "source": [
    "def disp_graph_with_custom_labels(gr=None, \n",
    "                                  nodes_labels={}, \n",
    "                                  edges_labels={},\n",
    "                                  fig_size=8,\n",
    "                                  node_label=None, \n",
    "                                  edge_label=None):\n",
    "    plt.figure(figsize=(fig_size, fig_size))\n",
    "    \n",
    "    if not edge_label == None and not edge_label == '':\n",
    "        edges_labels = nx.get_edge_attributes(G=gr, name=edge_label)\n",
    "        \n",
    "    if not node_label == None and not node_label == '':\n",
    "        nodes_labels = nx.get_node_attributes(G=gr, name=node_label)\n",
    "\n",
    "    layout = nx.shell_layout(gr)\n",
    "    \n",
    "    nx.draw(G=gr, pos=layout, node_size=1500)\n",
    "    nx.draw_networkx_edge_labels(G=gr, \n",
    "                                 pos=layout, \n",
    "                                 edge_labels=edges_labels, \n",
    "                                 font_family='sans-serif')\n",
    "    nx.draw_networkx_labels(G=gr, \n",
    "                            pos=layout, \n",
    "                            labels=nodes_labels, \n",
    "                            font_family='sans-serif')\n",
    "    plt.show()"
   ]
  },
  {
   "cell_type": "code",
   "execution_count": 5,
   "metadata": {
    "collapsed": true
   },
   "outputs": [],
   "source": [
    "def subs_to_graph_new_values(gr=None, values=[]):\n",
    "    q = nx.get_edge_attributes(G=gr, name='q')\n",
    "    p = nx.get_node_attributes(G=gr, name='p')\n",
    "\n",
    "    for sub_expr in values:\n",
    "        sym = sub_expr[0]\n",
    "        val = round(sub_expr[1], round_count)\n",
    "\n",
    "        for edge_param in list(q.items()):\n",
    "            if sym == str(edge_param[1]):\n",
    "                q[edge_param[0]] = val\n",
    "\n",
    "        for node_param in list(p.items()):\n",
    "            if sym == str(node_param[1]):\n",
    "                p[node_param[0]] = val\n",
    "\n",
    "#     print(q)\n",
    "#     print(p)\n",
    "\n",
    "    nx.set_edge_attributes(G=gr, name='q', values=q)\n",
    "    nx.set_node_attributes(G=gr, name='p', values=p)"
   ]
  },
  {
   "cell_type": "code",
   "execution_count": 6,
   "metadata": {
    "collapsed": true
   },
   "outputs": [],
   "source": [
    "def disp_graph(gr=None, edge_label='q',\n",
    "               node_label='p',\n",
    "               fig_size=8):\n",
    "    \n",
    "    plt.figure(figsize=(fig_size, fig_size))\n",
    "    \n",
    "    edges_labels = nx.get_edge_attributes(G=gr, \n",
    "                                          name=edge_label)\n",
    "    nodes_labels = nx.get_node_attributes(G=gr, \n",
    "                                          name=node_label)\n",
    "    \n",
    "    layout = nx.shell_layout(gr)\n",
    "    \n",
    "    nx.draw(G=gr, pos=layout, \n",
    "            node_size=1500)\n",
    "    nx.draw_networkx_edge_labels(G=gr, \n",
    "                                 pos=layout, \n",
    "                                 edge_labels=edges_labels, \n",
    "                                 font_family='sans-serif')\n",
    "    nx.draw_networkx_labels(G=gr, \n",
    "                            pos=layout, \n",
    "                            labels=nodes_labels, \n",
    "                            font_family='sans-serif')\n",
    "    plt.show()"
   ]
  },
  {
   "cell_type": "code",
   "execution_count": 59,
   "metadata": {
    "collapsed": true
   },
   "outputs": [],
   "source": [
    "def read_graph(path=''):\n",
    "    all_symbols = []\n",
    "\n",
    "    start_nodes = set()\n",
    "    terminal_nodes = set()\n",
    "    all_nodes = set()\n",
    "    \n",
    "    gpa = nx.DiGraph()\n",
    "\n",
    "    with open(path, 'r') as input:\n",
    "        line = input.readline()\n",
    "\n",
    "        params = list(map(lambda x : int(x), \n",
    "                          line.split(' ')))\n",
    "        V, E = params[0], params[1]\n",
    "\n",
    "        graph_params = {\n",
    "            'nodes' : dict(),\n",
    "            'edges' : dict()\n",
    "        }\n",
    "\n",
    "        for i in range(V):\n",
    "            params = list(map(lambda x : int(x), \n",
    "                              input.readline().split(' ')))\n",
    "            node = int(params[0])\n",
    "    \n",
    "            start_nodes.add(node)\n",
    "            terminal_nodes.add(node)\n",
    "            all_nodes.add(node)\n",
    "            \n",
    "            if len(params) == 1:\n",
    "                p_i = sm.symbols('p' + str(i + 1))\n",
    "                known = False\n",
    "                all_symbols.append(p_i)\n",
    "            else:\n",
    "                p_i = params[1]\n",
    "                known = True\n",
    "            gpa.add_node(node, \n",
    "                         p=p_i,\n",
    "                         q=0,\n",
    "                         known_p=known,\n",
    "                         known_q=True,\n",
    "                         influx=0,\n",
    "                         influx_consumption=False,\n",
    "                         final_pressure=False,\n",
    "                         code=str(i + 1),\n",
    "                         var=sm.symbols('p' + str(i + 1)))\n",
    "\n",
    "        for i in range(E):\n",
    "            params = list(map(lambda x : int(x), \n",
    "                              input.readline().split(' ')))\n",
    "\n",
    "            u = int(params[0])\n",
    "            v = int(params[1])\n",
    "            l = params[2]\n",
    "            d = params[3]\n",
    "            \n",
    "            if v in start_nodes:\n",
    "                start_nodes.remove(v)\n",
    "            \n",
    "            if u in terminal_nodes:\n",
    "                terminal_nodes.remove(u)\n",
    "\n",
    "            if len(params) == 4:\n",
    "                q_i = sm.symbols('q' + str(i + 1))\n",
    "                known = False\n",
    "                all_symbols.append(q_i)\n",
    "            else:\n",
    "                q_i = params[4]\n",
    "                known = True\n",
    "            \n",
    "            if not gpa.nodes[u]['q'] == 0:\n",
    "                gpa.nodes[u]['q'] -= q_i\n",
    "                gpa.nodes[u]['known_q'] = gpa.nodes[u]['known_q'] and not isinstance(q_i, sm.Symbol)\n",
    "            else:\n",
    "                gpa.nodes[u]['q'] = q_i\n",
    "                gpa.nodes[u]['known_q'] = gpa.nodes[u]['known_q'] and not isinstance(q_i, sm.Symbol)\n",
    "            \n",
    "            if not gpa.nodes[v]['q'] == 0:\n",
    "                gpa.nodes[v]['q'] -= q_i\n",
    "                gpa.nodes[v]['known_q'] = gpa.nodes[v]['known_q'] and not isinstance(q_i, sm.Symbol)\n",
    "            else:\n",
    "                gpa.nodes[v]['q'] = q_i\n",
    "                gpa.nodes[v]['known_q'] = gpa.nodes[v]['known_q'] and not isinstance(q_i, sm.Symbol)\n",
    "               \n",
    "            gpa.add_edge(u=u, \n",
    "                         v=v,\n",
    "                         q=q_i, \n",
    "                         L=l, \n",
    "                         D=d, \n",
    "                         known=known, \n",
    "                         code=str(i + 1), \n",
    "                         var=sm.symbols('q' + str(i + 1)))\n",
    "            \n",
    "            \n",
    "        for node_index in gpa.nodes():\n",
    "            node = gpa.nodes[node_index]\n",
    "            \n",
    "            node['final_pressure'] = not isinstance(node['p'], sm.Symbol)\n",
    "            node['influx_consumption'] = isinstance(node['p'], sm.Symbol)\n",
    "            \n",
    "            if node_index in terminal_nodes or node_index in start_nodes:\n",
    "                node['influx'] = node['q']\n",
    "            \n",
    "    return gpa, all_symbols"
   ]
  },
  {
   "cell_type": "code",
   "execution_count": 60,
   "metadata": {
    "collapsed": true
   },
   "outputs": [],
   "source": [
    "def get_equations(gr=None, all_symbols=[]):\n",
    "    q = nx.get_edge_attributes(G=gr, name='q')\n",
    "    p = nx.get_node_attributes(G=gr, name='p')\n",
    "    l = nx.get_edge_attributes(G=gr, name='L')\n",
    "    d = nx.get_edge_attributes(G=gr, name='D')\n",
    "    \n",
    "    equations = []\n",
    "\n",
    "    for edge, param in q.items():\n",
    "        qc = param\n",
    "        pcs = p[edge[0]]\n",
    "        pcf = p[edge[1]]\n",
    "        dc = d[edge]\n",
    "        lc = l[edge]\n",
    "\n",
    "        counter = 0\n",
    "\n",
    "        eq = pcs * pcs - pcf * pcf - qc * qc * lc * dc ** 5\n",
    "\n",
    "        fl = True\n",
    "        for sym in all_symbols:\n",
    "            expr = sm.diff(eq, sym)\n",
    "            fl = fl and expr == 0\n",
    "\n",
    "        if not fl:\n",
    "            equations.append(eq)\n",
    "\n",
    "    edge_list = list(gr.edges())\n",
    "    temp = np.zeros((len(edge_list), 2))\n",
    "    for i in range(len(edge_list)):\n",
    "        edge = edge_list[i]\n",
    "        temp[i][0] = edge[0]\n",
    "        temp[i][1] = edge[1]\n",
    "\n",
    "    edges = temp\n",
    "\n",
    "    for node in gr.nodes():\n",
    "\n",
    "        eq = 0\n",
    "        counter = 0\n",
    "        for temp_edge in edges:\n",
    "            if temp_edge[0] == node:\n",
    "                qc = q[(temp_edge[0], temp_edge[1])]\n",
    "                eq += qc\n",
    "                counter += 1\n",
    "            if temp_edge[1] == node:\n",
    "                qc = q[(temp_edge[0], temp_edge[1])]\n",
    "                eq -= qc\n",
    "                counter += 1\n",
    "\n",
    "        fl = True\n",
    "        for sym in all_symbols:\n",
    "            expr = sm.diff(eq, sym)\n",
    "            fl = fl and expr == 0\n",
    "\n",
    "        if not fl and counter > 1:\n",
    "            equations.append(eq)\n",
    "\n",
    "    for i in range(len(equations)):\n",
    "        print('equation ' + \n",
    "              str(i + 1) + \n",
    "              ' : ' + \n",
    "              str(equations[i]))\n",
    "\n",
    "    return equations"
   ]
  },
  {
   "cell_type": "code",
   "execution_count": 154,
   "metadata": {
    "collapsed": true
   },
   "outputs": [],
   "source": [
    "def get_equations_from_node(gr=None, all_symbols=[]):\n",
    "    q = nx.get_edge_attributes(G=gr, name='q')\n",
    "    p = nx.get_node_attributes(G=gr, name='p')\n",
    "    l = nx.get_edge_attributes(G=gr, name='L')\n",
    "    d = nx.get_edge_attributes(G=gr, name='D')\n",
    "    \n",
    "    equations = []\n",
    "\n",
    "    for edge, param in q.items():\n",
    "        qc = param\n",
    "        pcs = p[edge[0]]\n",
    "        pcf = p[edge[1]]\n",
    "        dc = d[edge]\n",
    "        lc = l[edge]\n",
    "\n",
    "        counter = 0\n",
    "\n",
    "        eq = pcs * pcs - pcf * pcf - qc * qc * lc * dc ** 5\n",
    "\n",
    "        fl = True\n",
    "        for sym in all_symbols:\n",
    "            expr = sm.diff(eq, sym)\n",
    "            fl = fl and expr == 0\n",
    "\n",
    "        if not fl:\n",
    "            equations.append(eq)\n",
    "            \n",
    "    for node_index in gr.nodes():\n",
    "        node = gr.nodes[node_index]\n",
    "        if node['influx'] == 0:\n",
    "            equations.append(node['q'])\n",
    "    \n",
    "    return equations"
   ]
  },
  {
   "cell_type": "code",
   "execution_count": 61,
   "metadata": {
    "collapsed": true
   },
   "outputs": [],
   "source": [
    "def get_newton_equations(equations=[], all_symbols=[]):\n",
    "    jacobi, jacobian = cacl_jac(all_symbols=all_symbols, \n",
    "                                equations=equations)\n",
    "    \n",
    "    eqs = []\n",
    "    eq = sm.Matrix(deepcopy(equations))\n",
    "    \n",
    "    for i in range(len(all_symbols)):\n",
    "        f_i = deepcopy(jacobi)\n",
    "        f_i[:, i] = eq\n",
    "        \n",
    "        f_i = f_i.det()\n",
    "        f_i = f_i / jacobian\n",
    "\n",
    "        \n",
    "        eqs.append(sm.simplify(f_i))\n",
    "        \n",
    "    return eqs"
   ]
  },
  {
   "cell_type": "code",
   "execution_count": 62,
   "metadata": {
    "collapsed": true
   },
   "outputs": [],
   "source": [
    "def subs(values=[], eqs=[]):\n",
    "    ans = [float(eq.subs(values)) \n",
    "           for eq in eqs]\n",
    "    \n",
    "    return ans"
   ]
  },
  {
   "cell_type": "code",
   "execution_count": 63,
   "metadata": {
    "collapsed": true
   },
   "outputs": [],
   "source": [
    "def partial_subs(values=[], eqs=[]):  \n",
    "    ans = [eq.subs(values) for eq in eqs]\n",
    "    \n",
    "    return ans"
   ]
  },
  {
   "cell_type": "code",
   "execution_count": 64,
   "metadata": {
    "collapsed": true
   },
   "outputs": [],
   "source": [
    "def solving(values=[], eqs=[], steps=25, eps=0.001):\n",
    "    cer = 1\n",
    "    ers = []\n",
    "\n",
    "    while cer > eps and steps > 0:\n",
    "        er = []\n",
    "        \n",
    "        try:\n",
    "            \n",
    "            nv = []\n",
    "\n",
    "            ans = subs(eqs=eqs, values=values)\n",
    "\n",
    "            for i in range(len(values)):\n",
    "                val = values[i][1] - ans[i]\n",
    "                sym = values[i][0]\n",
    "\n",
    "                nv.append((sym, val))\n",
    "                er.append(math.fabs(ans[i]))\n",
    "\n",
    "            values = nv    \n",
    "\n",
    "            er = np.linalg.norm(np.array(er))\n",
    "            ers.append(er)\n",
    "            cer = er\n",
    "\n",
    "            steps -= 1\n",
    "\n",
    "        except Exception as ex:\n",
    "            break\n",
    "    \n",
    "    return values, ers"
   ]
  },
  {
   "cell_type": "markdown",
   "metadata": {},
   "source": [
    "# Реализация метода Ньютона"
   ]
  },
  {
   "cell_type": "code",
   "execution_count": 160,
   "metadata": {
    "collapsed": true
   },
   "outputs": [],
   "source": [
    "def calc(path='', values=[]):\n",
    "    gpa, all_symbols = read_graph(path=path)\n",
    "    \n",
    "#     disp_graph_with_custom_labels(gr=gpa, \n",
    "#                                   edge_label='q', \n",
    "#                                   node_label='p')\n",
    "    \n",
    "    equations = get_equations_from_node(gr=gpa, \n",
    "                              all_symbols=all_symbols)\n",
    "    \n",
    "    print()\n",
    "    print('Переменных :', len(all_symbols), all_symbols)\n",
    "    print('Уравнений :', len(equations))\n",
    "    print()\n",
    "    \n",
    "    eqs = get_newton_equations(all_symbols=all_symbols, \n",
    "                               equations=equations)\n",
    "    \n",
    "    values, ers = solving(values=values, eqs=eqs)\n",
    "\n",
    "    subs_to_graph_new_values(values=values, gr=gpa)\n",
    "#     disp_graph(gr=gpa, edge_label='q', node_label='p')\n",
    "\n",
    "    plt.figure(figsize=(10, 10))\n",
    "    plt.plot(range(len(ers)), ers, 'b')\n",
    "    plt.plot(range(len(ers)), ers, 'ro')\n",
    "    plt.ylabel(s='Норма изменения')\n",
    "    plt.xlabel(s='Номер шага')\n",
    "    plt.grid()\n",
    "    plt.show()\n",
    "\n",
    "#     print('Результат : ')\n",
    "#     pprint(values)\n",
    "\n",
    "    print('\\nError : ' + str(min(ers)))\n",
    "    \n",
    "    return gpa"
   ]
  },
  {
   "cell_type": "code",
   "execution_count": 164,
   "metadata": {
    "scrolled": false
   },
   "outputs": [
    {
     "name": "stdout",
     "output_type": "stream",
     "text": [
      "\n",
      "Переменных : 4 [p2, p3, p4, q1]\n",
      "Уравнений : 4\n",
      "\n"
     ]
    },
    {
     "data": {
      "image/png": "[encoded data removed]",
      "text/plain": [
       "<matplotlib.figure.Figure at 0x7f82ae1840b8>"
      ]
     },
     "metadata": {},
     "output_type": "display_data"
    },
    {
     "name": "stdout",
     "output_type": "stream",
     "text": [
      "\n",
      "Error : 4.69524696683e-05\n"
     ]
    }
   ],
   "source": [
    "gpa = calc(path='gpa-4.txt', values=values_gpa['4'])"
   ]
  },
  {
   "cell_type": "code",
   "execution_count": 135,
   "metadata": {},
   "outputs": [
    {
     "data": {
      "image/png": "[encoded data removed]",
      "text/plain": [
       "<matplotlib.figure.Figure at 0x7f82a8d158d0>"
      ]
     },
     "metadata": {},
     "output_type": "display_data"
    }
   ],
   "source": [
    "disp_graph_with_custom_labels(gr=gpa, edge_label='q', node_label='q')"
   ]
  },
  {
   "cell_type": "code",
   "execution_count": 75,
   "metadata": {
    "collapsed": true
   },
   "outputs": [],
   "source": [
    "def get_AF_AL(A=None):\n",
    "    AF = sm.zeros(A.shape[0], A.shape[1])\n",
    "    AL = sm.zeros(A.shape[0], A.shape[1])\n",
    "\n",
    "    for i in range(A.shape[0]):\n",
    "        for j in range(A.shape[1]):\n",
    "            val = int(A[i, j])\n",
    "            if val == 1:\n",
    "                AF[i, j] = 1\n",
    "            elif val == -1:\n",
    "                AL[i, j] = 1\n",
    "\n",
    "    AF_T = sm.Matrix(AF.T)\n",
    "    AL_T = sm.Matrix(AL.T)\n",
    "    \n",
    "    return (AF, AL)"
   ]
  },
  {
   "cell_type": "code",
   "execution_count": 76,
   "metadata": {
    "collapsed": true
   },
   "outputs": [],
   "source": [
    "def phi(ps, pf, D, L):\n",
    "    return (ps ** 2 - pf ** 2)"
   ]
  },
  {
   "cell_type": "code",
   "execution_count": 77,
   "metadata": {
    "collapsed": true
   },
   "outputs": [],
   "source": [
    "def get_edge_index(gr=None, edge=()):\n",
    "    return list(gr.edges()).index(edge)"
   ]
  },
  {
   "cell_type": "code",
   "execution_count": 78,
   "metadata": {
    "collapsed": true
   },
   "outputs": [],
   "source": [
    "def get_edge_by_index(gr=None, index=0):\n",
    "    return list(gr.edges())[index]"
   ]
  },
  {
   "cell_type": "code",
   "execution_count": 79,
   "metadata": {
    "collapsed": true
   },
   "outputs": [],
   "source": [
    "def get_node_by_index(gr=None, index=0):\n",
    "    return gr.nodes[index]"
   ]
  },
  {
   "cell_type": "code",
   "execution_count": 80,
   "metadata": {
    "collapsed": true
   },
   "outputs": [],
   "source": [
    "def replace_cols(A=None, i=0, j=0):\n",
    "    shape = A.shape\n",
    "    \n",
    "    A_copy = deepcopy(A)\n",
    "    \n",
    "    rows = shape[0]\n",
    "    cols = shape[1]\n",
    "    \n",
    "    if i < cols and j < cols:\n",
    "        A_copy[:, i] = A[:, j]\n",
    "        A_copy[:, j] = A[:, i]\n",
    "        \n",
    "        return A_copy"
   ]
  },
  {
   "cell_type": "code",
   "execution_count": 81,
   "metadata": {
    "collapsed": true
   },
   "outputs": [],
   "source": [
    "def replace_rows(A=None, i=0, j=0):\n",
    "    shape = A.shape\n",
    "    \n",
    "    A_copy = deepcopy(A)\n",
    "    \n",
    "    rows = shape[0]\n",
    "    cols = shape[1]\n",
    "    \n",
    "    print(shape, i, j)\n",
    "    \n",
    "    if i < rows and j < rows:\n",
    "        A_copy[j, :] = A[i, :]\n",
    "        A_copy[i, :] = A[j, :]\n",
    "        \n",
    "        return A_copy"
   ]
  },
  {
   "cell_type": "code",
   "execution_count": 82,
   "metadata": {
    "collapsed": true
   },
   "outputs": [],
   "source": [
    "def set_cols_order(A=None, cols_order=[]):\n",
    "    T = deepcopy(A)\n",
    "    for pos, index in zip(cols_order, range(len(cols_order))):\n",
    "        T[:, index] = A[:, pos]\n",
    "        \n",
    "    return T"
   ]
  },
  {
   "cell_type": "code",
   "execution_count": 83,
   "metadata": {
    "collapsed": true
   },
   "outputs": [],
   "source": [
    "def set_rows_order(A=None, rows_order=[]):\n",
    "    T = deepcopy(A)\n",
    "    for pos, index in zip(rows_order, range(len(rows_order))):\n",
    "        T[index, :] = A[pos, :]\n",
    "        \n",
    "    return T"
   ]
  },
  {
   "cell_type": "code",
   "execution_count": 84,
   "metadata": {
    "collapsed": true
   },
   "outputs": [],
   "source": [
    "def get_all_matrix(gpa=None, phi=None):\n",
    "    \n",
    "    A = nx.incidence_matrix(G=gpa, \n",
    "                            oriented=True).todense()\n",
    "    \n",
    "    P = [ gpa.nodes[node]['var'] \n",
    "         for node in gpa.nodes() ]\n",
    "    P = sm.Matrix(P)\n",
    "    \n",
    "    known_nodes_q = [ node - 1 for node in gpa.nodes() \n",
    "                   if gpa.nodes[node]['influx_consumption']]\n",
    "    \n",
    "    unknown_nodes_q = [ node - 1 for node in gpa.nodes() \n",
    "                     if not gpa.nodes[node]['influx_consumption']]\n",
    "    known_nodes_p = [ node - 1 for node in gpa.nodes() \n",
    "                   if gpa.nodes[node]['final_pressure']]\n",
    "    unknown_nodes_p = [ node - 1 for node in gpa.nodes() \n",
    "                     if not gpa.nodes[node]['final_pressure']]\n",
    "    knowledges_nodes = {\n",
    "        'p':{\n",
    "            'known' : known_nodes_p,\n",
    "            'unknown' : unknown_nodes_p\n",
    "        },\n",
    "        'q':{\n",
    "            'known' : known_nodes_q,\n",
    "            'unknown' : unknown_nodes_q\n",
    "        }\n",
    "    }\n",
    "    \n",
    "    eq = []\n",
    "    \n",
    "    A_s = get_AF_AL(A=A)\n",
    "    \n",
    "    AF_T = sm.Matrix(A_s[0].T)\n",
    "    AL_T = sm.Matrix(A_s[1].T)\n",
    "    \n",
    "    PF = AF_T * P\n",
    "    PL = AL_T * P\n",
    "\n",
    "    for pf, ps in zip(PF, PL):\n",
    "        eq.append(phi(ps, pf, 1, 1))\n",
    "        \n",
    "    X = sm.Matrix(eq)\n",
    "    \n",
    "    d_F_i = []\n",
    "    d_L_i = []\n",
    "\n",
    "    diff_vars = []\n",
    "    for edge_index, eq in zip(gpa.edges(), X):\n",
    "        node_s = gpa.node[edge_index[0]]['var']\n",
    "        node_f = gpa.node[edge_index[1]]['var']\n",
    "        \n",
    "        eq_s = sm.diff(eq, node_s)\n",
    "        eq_f = -sm.diff(eq, node_f)\n",
    "        \n",
    "        d_F_i.append(eq_s)\n",
    "        d_L_i.append(eq_f)\n",
    "    \n",
    "    d_F_i = sm.diag(*d_F_i)\n",
    "    d_L_i = sm.diag(*d_L_i)\n",
    "    \n",
    "    return (A, X, (AF_T, AL_T), (d_F_i, d_L_i), P, knowledges_nodes)"
   ]
  },
  {
   "cell_type": "code",
   "execution_count": 115,
   "metadata": {
    "collapsed": true
   },
   "outputs": [],
   "source": [
    "def get_Q(gr=None):    \n",
    "    Q = []\n",
    "    for node in gr.nodes():\n",
    "        Q.append(gr.nodes[node]['influx'])\n",
    "    \n",
    "    return sm.Matrix(Q)"
   ]
  },
  {
   "cell_type": "code",
   "execution_count": 116,
   "metadata": {
    "collapsed": true
   },
   "outputs": [],
   "source": [
    "def get_P(gr=None):    \n",
    "    P = []\n",
    "    for node in gr.nodes():\n",
    "        P.append(gr.nodes[node]['p'])\n",
    "    \n",
    "    return sm.Matrix(P)"
   ]
  },
  {
   "cell_type": "code",
   "execution_count": 129,
   "metadata": {},
   "outputs": [],
   "source": [
    "gpa, syms = read_graph(path='gpa-1.txt')\n",
    "res = get_all_matrix(gpa=gpa, phi=phi)"
   ]
  },
  {
   "cell_type": "code",
   "execution_count": 130,
   "metadata": {
    "collapsed": true
   },
   "outputs": [],
   "source": [
    "A = -1 * res[0]\n",
    "X = res[1]\n",
    "AF_T = res[2][0]\n",
    "AL_T = res[2][1]\n",
    "d_F = res[3][0]\n",
    "d_L = res[3][1]\n",
    "P = res[4]"
   ]
  },
  {
   "cell_type": "code",
   "execution_count": 131,
   "metadata": {
    "collapsed": true
   },
   "outputs": [],
   "source": [
    "nodes_p = res[5]['p']['known'] + res[5]['p']['unknown']\n",
    "nodes_q = res[5]['q']['known'] + res[5]['q']['unknown']"
   ]
  },
  {
   "cell_type": "code",
   "execution_count": 132,
   "metadata": {},
   "outputs": [],
   "source": [
    "P = get_P(gr=gpa)\n",
    "Q = get_Q(gr=gpa)\n",
    "\n",
    "P = set_rows_order(A=P, rows_order=res[5]['p']['unknown'] + res[5]['p']['known'])\n",
    "Q = set_rows_order(A=Q, rows_order=res[5]['q']['known'] + res[5]['q']['unknown'])"
   ]
  },
  {
   "cell_type": "code",
   "execution_count": 133,
   "metadata": {},
   "outputs": [
    {
     "data": {
      "text/plain": [
       "Matrix([\n",
       "[p2],\n",
       "[p4],\n",
       "[12],\n",
       "[ 4],\n",
       "[ 7],\n",
       "[ 6]])"
      ]
     },
     "execution_count": 133,
     "metadata": {},
     "output_type": "execute_result"
    }
   ],
   "source": [
    "P"
   ]
  },
  {
   "cell_type": "code",
   "execution_count": 134,
   "metadata": {},
   "outputs": [
    {
     "data": {
      "text/plain": [
       "Matrix([\n",
       "[ 0],\n",
       "[ 0],\n",
       "[q1],\n",
       "[q2],\n",
       "[q4],\n",
       "[q5]])"
      ]
     },
     "execution_count": 134,
     "metadata": {},
     "output_type": "execute_result"
    }
   ],
   "source": [
    "Q"
   ]
  }
 ],
 "metadata": {
  "kernelspec": {
   "display_name": "Python 3",
   "language": "python",
   "name": "python3"
  },
  "language_info": {
   "codemirror_mode": {
    "name": "ipython",
    "version": 3
   },
   "file_extension": ".py",
   "mimetype": "text/x-python",
   "name": "python",
   "nbconvert_exporter": "python",
   "pygments_lexer": "ipython3",
   "version": "3.5.2"
  }
 },
 "nbformat": 4,
 "nbformat_minor": 2
}
